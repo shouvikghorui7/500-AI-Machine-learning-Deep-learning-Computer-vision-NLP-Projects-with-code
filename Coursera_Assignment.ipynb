{
  "nbformat": 4,
  "nbformat_minor": 0,
  "metadata": {
    "colab": {
      "provenance": [],
      "authorship_tag": "ABX9TyNuhQO1GE12h8mw6mxm+iL5",
      "include_colab_link": true
    },
    "kernelspec": {
      "name": "python3",
      "display_name": "Python 3"
    },
    "language_info": {
      "name": "python"
    }
  },
  "cells": [
    {
      "cell_type": "markdown",
      "metadata": {
        "id": "view-in-github",
        "colab_type": "text"
      },
      "source": [
        "<a href=\"https://colab.research.google.com/github/shouvikghorui7/500-AI-Machine-learning-Deep-learning-Computer-vision-NLP-Projects-with-code/blob/main/Coursera_Assignment.ipynb\" target=\"_parent\"><img src=\"https://colab.research.google.com/assets/colab-badge.svg\" alt=\"Open In Colab\"/></a>"
      ]
    },
    {
      "cell_type": "code",
      "execution_count": null,
      "metadata": {
        "id": "1xCTmWjsW3Ay"
      },
      "outputs": [],
      "source": []
    },
    {
      "cell_type": "markdown",
      "source": [
        "Coursera_Assignment"
      ],
      "metadata": {
        "id": "rcNTtinzXQfX"
      }
    },
    {
      "cell_type": "markdown",
      "source": [
        "Introduction"
      ],
      "metadata": {
        "id": "rLbrKLBEX2t2"
      }
    },
    {
      "cell_type": "markdown",
      "source": [
        "Python\n",
        "\n",
        "R\n",
        "\n",
        "Julia"
      ],
      "metadata": {
        "id": "m_NSJ8tkYYaX"
      }
    },
    {
      "cell_type": "code",
      "source": [],
      "metadata": {
        "id": "-uArnKqnJnUM"
      },
      "execution_count": null,
      "outputs": []
    },
    {
      "cell_type": "markdown",
      "source": [
        "Numpay\n",
        "\n",
        "Pandas"
      ],
      "metadata": {
        "id": "bnu5L2cdJ5oT"
      }
    },
    {
      "cell_type": "code",
      "source": [],
      "metadata": {
        "id": "j6paENqKKQon"
      },
      "execution_count": null,
      "outputs": []
    },
    {
      "cell_type": "markdown",
      "source": [
        "## Data Science Tools\n",
        "\n",
        "Here is a table of some popular Data Science tools along with their descriptions:\n",
        "\n",
        "| Tool             | Description                                               |\n",
        "|------------------|-----------------------------------------------------------|\n",
        "| **Python**       | A high-level programming language with extensive libraries for data analysis, machine learning, and scientific computing. |\n",
        "| **R**            | A programming language and software environment used for statistical computing and graphics. |\n",
        "| **Jupyter**      | An open-source web application that allows you to create and share documents that contain live code, equations, visualizations, and narrative text. |\n",
        "| **TensorFlow**   | An open-source machine learning framework developed by Google, used for building and training deep learning models. |\n",
        "| **PyTorch**      | An open-source machine learning library developed by Facebook's AI Research lab, used for applications such as computer vision and natural language processing. |\n",
        "| **Pandas**       | A Python library providing high-performance, easy-to-use data structures and data analysis tools. |\n",
        "| **NumPy**        | A fundamental package for scientific computing with Python, providing support for arrays, matrices, and many mathematical functions. |\n",
        "| **scikit-learn** | A Python module integrating a wide range of state-of-the-art machine learning algorithms for medium-scale supervised and unsupervised problems. |\n",
        "| **MATLAB**       | A multi-paradigm programming language and numeric computing environment used for matrix manipulations, plotting functions, and implementing algorithms. |\n",
        "| **Tableau**      | A powerful, secure, and flexible end-to-end data analytics platform used to transform data into actionable insights. |\n",
        "\n",
        "This table lists some of the essential tools commonly used in the field of data science.\n"
      ],
      "metadata": {
        "id": "oVvcr944KSua"
      }
    },
    {
      "cell_type": "code",
      "source": [],
      "metadata": {
        "id": "uJXDHslbKTOl"
      },
      "execution_count": null,
      "outputs": []
    },
    {
      "cell_type": "markdown",
      "source": [
        "## Arithmetic Expression Examples\n",
        "\n",
        "In this section, we will look at some examples of basic arithmetic expressions commonly used in mathematical computations.\n",
        "\n",
        "| Expression | Description                  | Example |\n",
        "|------------|------------------------------|---------|\n",
        "| Addition   | Adds two numbers             | 3 + 2 = 5 |\n",
        "| Subtraction| Subtracts one number from another | 5 - 2 = 3 |\n",
        "| Multiplication | Multiplies two numbers       | 4 * 3 = 12 |\n",
        "| Division   | Divides one number by another | 8 / 2 = 4 |\n",
        "| Exponentiation | Raises one number to the power of another | 2 ** 3 = 8 |\n",
        "\n",
        "These examples illustrate how basic arithmetic operations are performed in many programming languages.\n"
      ],
      "metadata": {
        "id": "M5ktlWMKKlCr"
      }
    },
    {
      "cell_type": "code",
      "source": [
        "print(4*8)\n",
        "print(5+9)"
      ],
      "metadata": {
        "colab": {
          "base_uri": "https://localhost:8080/"
        },
        "id": "C-h3e15_Kle7",
        "outputId": "c1bb5cc2-bcd9-4837-f316-b440b81bb6d1"
      },
      "execution_count": 1,
      "outputs": [
        {
          "output_type": "stream",
          "name": "stdout",
          "text": [
            "32\n",
            "14\n"
          ]
        }
      ]
    },
    {
      "cell_type": "code",
      "source": [],
      "metadata": {
        "id": "_3g6_SWUK1fH"
      },
      "execution_count": null,
      "outputs": []
    },
    {
      "cell_type": "markdown",
      "source": [
        "## Arithmetic Expression Examples\n",
        "\n",
        "In this section, we will look at some examples of basic arithmetic expressions commonly used in mathematical computations:\n",
        "\n",
        "- **Addition**: Adds two numbers. For example, `3 + 2 = 5`.\n",
        "- **Subtraction**: Subtracts one number from another. For example, `5 - 2 = 3`.\n",
        "- **Multiplication**: Multiplies two numbers. For example, `4 * 3 = 12`.\n",
        "- **Division**: Divides one number by another. For example, `8 / 2 = 4`.\n",
        "- **Exponentiation**: Raises one number to the power of another. For example, `2 ** 3 = 8`.\n",
        "\n",
        "These operations form the foundation of many mathematical calculations and are commonly used in programming.\n"
      ],
      "metadata": {
        "id": "-2Cn9iqMLI-x"
      }
    },
    {
      "cell_type": "code",
      "source": [
        "# Code to convert minutes to hours\n",
        "\n",
        "# Define the number of minutes\n",
        "minutes = 120  # You can change this value to any number of minutes you want to convert\n",
        "\n",
        "# Convert minutes to hours\n",
        "hours = minutes / 60\n",
        "\n",
        "# Print the result\n",
        "print(f\"{minutes} minutes is equal to {hours} hours\")\n"
      ],
      "metadata": {
        "colab": {
          "base_uri": "https://localhost:8080/"
        },
        "id": "xkPa4IErLJa9",
        "outputId": "343bd3f1-bb44-4a94-a7a1-e9994bd9585c"
      },
      "execution_count": 2,
      "outputs": [
        {
          "output_type": "stream",
          "name": "stdout",
          "text": [
            "120 minutes is equal to 2.0 hours\n"
          ]
        }
      ]
    },
    {
      "cell_type": "code",
      "source": [],
      "metadata": {
        "id": "A9OeEniWLicl"
      },
      "execution_count": null,
      "outputs": []
    },
    {
      "cell_type": "markdown",
      "source": [
        "## Author\n",
        "\n",
        "This notebook was created by **Shouvik Ghorui**.\n"
      ],
      "metadata": {
        "id": "DfBqjuczLt-C"
      }
    },
    {
      "cell_type": "code",
      "source": [],
      "metadata": {
        "id": "tfystEZvLw73"
      },
      "execution_count": null,
      "outputs": []
    }
  ]
}